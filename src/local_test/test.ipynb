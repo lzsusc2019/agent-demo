{
 "cells": [
  {
   "cell_type": "code",
   "id": "initial_id",
   "metadata": {
    "collapsed": true,
    "ExecuteTime": {
     "end_time": "2025-07-24T15:43:50.630845Z",
     "start_time": "2025-07-24T15:43:42.260857Z"
    }
   },
   "source": [
    "from zhipuai import ZhipuAI\n",
    "client = ZhipuAI(api_key=\"fe9738b010204be4abbc6270e564c3e4.uIradcszMNrTCc6B\")  # 请填写您自己的APIKey\n",
    "response = client.chat.completions.create(\n",
    "    model=\"glm-4-plus\",  # 请填写您要调用的模型名称\n",
    "    messages=[\n",
    "        {\"role\": \"user\", \"content\": \"作为一名营销专家，请为我的产品创作一个吸引人的口号\"},\n",
    "        {\"role\": \"assistant\", \"content\": \"当然，要创作一个吸引人的口号，请告诉我一些关于您产品的信息\"},\n",
    "        {\"role\": \"user\", \"content\": \"智谱AI开放平台\"},\n",
    "        {\"role\": \"assistant\", \"content\": \"点燃未来，智谱AI绘制无限，让创新触手可及！\"},\n",
    "        {\"role\": \"user\", \"content\": \"创作一个更精准且吸引人的口号\"}\n",
    "    ],\n",
    ")\n",
    "print(response)"
   ],
   "outputs": [
    {
     "name": "stdout",
     "output_type": "stream",
     "text": [
      "Completion(model='glm-4-plus', created=1753371830, choices=[CompletionChoice(index=0, finish_reason='stop', message=CompletionMessage(content='\"智启未来，谱绘智能 —— 智谱AI，开放共赢新纪元！\"', role='assistant', reasoning_content=None, tool_calls=None))], request_id='202507242343490e8dadbc392d400e', id='202507242343490e8dadbc392d400e', usage=CompletionUsage(prompt_tokens=73, completion_tokens=23, total_tokens=96))\n"
     ]
    }
   ],
   "execution_count": 1
  }
 ],
 "metadata": {
  "kernelspec": {
   "display_name": "Python 3",
   "language": "python",
   "name": "python3"
  },
  "language_info": {
   "codemirror_mode": {
    "name": "ipython",
    "version": 2
   },
   "file_extension": ".py",
   "mimetype": "text/x-python",
   "name": "python",
   "nbconvert_exporter": "python",
   "pygments_lexer": "ipython2",
   "version": "2.7.6"
  }
 },
 "nbformat": 4,
 "nbformat_minor": 5
}
